{
  "cells": [
    {
      "cell_type": "markdown",
      "id": "acf31a39",
      "metadata": {
        "id": "acf31a39"
      },
      "source": [
        "# **Comprehensive NLP Lab: From Preprocessing to Feature Extraction**"
      ]
    },
    {
      "cell_type": "markdown",
      "id": "0bb5fcd9",
      "metadata": {
        "id": "0bb5fcd9"
      },
      "source": [
        "In this lab, you will explore a wide range of Natural Language Processing (NLP) techniques, from basic text preprocessing to advanced feature extraction and analysis. By the end of this lab, you will be able to:\n",
        "\n",
        "1. **Tokenize** and preprocess text data.\n",
        "2. Remove **stop words** and **punctuation**.\n",
        "3. Apply **stemming** and **lemmatization**.\n",
        "4. Extract features using **Bag of Words (BoW)** and **TF-IDF**.\n",
        "5. Generate **n-grams** to capture contextual information.\n",
        "6. Evaluate the impact of different preprocessing techniques on text data.\n",
        "\n",
        "Let's dive in!"
      ]
    },
    {
      "cell_type": "markdown",
      "id": "f0bdb53e",
      "metadata": {
        "id": "f0bdb53e"
      },
      "source": [
        "## **1. Setup the Environment**\n"
      ]
    },
    {
      "cell_type": "markdown",
      "id": "9aa12605",
      "metadata": {
        "id": "9aa12605"
      },
      "source": [
        "Before we begin, ensure you have the necessary libraries installed. Run the following cell to install them:\n"
      ]
    },
    {
      "cell_type": "code",
      "execution_count": null,
      "id": "6dd9b473",
      "metadata": {
        "id": "6dd9b473"
      },
      "outputs": [],
      "source": [
        "!pip install nltk scikit-learn pandas matplotlib\n"
      ]
    },
    {
      "cell_type": "markdown",
      "id": "3839e6cf",
      "metadata": {
        "id": "3839e6cf"
      },
      "source": [
        "Now, import the required libraries:"
      ]
    },
    {
      "cell_type": "code",
      "execution_count": 1,
      "id": "e27aa77b",
      "metadata": {
        "id": "e27aa77b"
      },
      "outputs": [],
      "source": [
        "\n",
        "import nltk\n",
        "import re\n",
        "import string\n",
        "import pandas as pd\n",
        "import matplotlib.pyplot as plt\n",
        "from nltk.corpus import stopwords\n",
        "from nltk.tokenize import word_tokenize\n",
        "from nltk.stem import PorterStemmer, WordNetLemmatizer\n",
        "from nltk import pos_tag\n",
        "from sklearn.feature_extraction.text import CountVectorizer, TfidfVectorizer"
      ]
    },
    {
      "cell_type": "code",
      "execution_count": 2,
      "id": "c5a2544b",
      "metadata": {
        "colab": {
          "base_uri": "https://localhost:8080/"
        },
        "id": "c5a2544b",
        "outputId": "6001e6bb-ec87-44a2-8c7a-8e06ccc76c08"
      },
      "outputs": [
        {
          "output_type": "stream",
          "name": "stderr",
          "text": [
            "[nltk_data] Downloading package punkt to /root/nltk_data...\n",
            "[nltk_data]   Unzipping tokenizers/punkt.zip.\n",
            "[nltk_data] Downloading package stopwords to /root/nltk_data...\n",
            "[nltk_data]   Unzipping corpora/stopwords.zip.\n",
            "[nltk_data] Downloading package averaged_perceptron_tagger to\n",
            "[nltk_data]     /root/nltk_data...\n",
            "[nltk_data]   Unzipping taggers/averaged_perceptron_tagger.zip.\n",
            "[nltk_data] Downloading package wordnet to /root/nltk_data...\n",
            "[nltk_data] Downloading package punkt_tab to /root/nltk_data...\n",
            "[nltk_data]   Unzipping tokenizers/punkt_tab.zip.\n",
            "[nltk_data] Downloading package averaged_perceptron_tagger to\n",
            "[nltk_data]     /root/nltk_data...\n",
            "[nltk_data]   Package averaged_perceptron_tagger is already up-to-\n",
            "[nltk_data]       date!\n"
          ]
        },
        {
          "output_type": "execute_result",
          "data": {
            "text/plain": [
              "True"
            ]
          },
          "metadata": {},
          "execution_count": 2
        }
      ],
      "source": [
        "# Download NLTK datasets\n",
        "nltk.download('punkt')\n",
        "nltk.download('stopwords')\n",
        "nltk.download('averaged_perceptron_tagger')\n",
        "nltk.download('wordnet')\n",
        "nltk.download('punkt_tab')\n",
        "nltk.download('averaged_perceptron_tagger')\n",
        "\n"
      ]
    },
    {
      "cell_type": "markdown",
      "id": "cec67490",
      "metadata": {
        "id": "cec67490"
      },
      "source": [
        "## **2. Text Preprocessing**"
      ]
    },
    {
      "cell_type": "markdown",
      "id": "5b6877c3",
      "metadata": {
        "id": "5b6877c3"
      },
      "source": [
        "### **Exercise 1: Tokenization and Stop Word Removal**"
      ]
    },
    {
      "cell_type": "markdown",
      "id": "956bdaa1",
      "metadata": {
        "id": "956bdaa1"
      },
      "source": [
        "Tokenize the following text"
      ]
    },
    {
      "cell_type": "code",
      "execution_count": 3,
      "id": "d82fcea5",
      "metadata": {
        "id": "d82fcea5"
      },
      "outputs": [],
      "source": [
        "text = \"Natural Language Processing (NLP) is a fascinating field of study! It involves analyzing and understanding human language.\"\n",
        "# your code here\n",
        "tokens = word_tokenize(text)\n"
      ]
    },
    {
      "cell_type": "markdown",
      "id": "26303ab9",
      "metadata": {
        "id": "26303ab9"
      },
      "source": [
        "Remove stop words and store the result in a variable called `filtered_tokens`"
      ]
    },
    {
      "cell_type": "code",
      "execution_count": 4,
      "id": "d09992c8",
      "metadata": {
        "id": "d09992c8"
      },
      "outputs": [],
      "source": [
        "stop_words = set(stopwords.words('english'))\n",
        "# your code here\n",
        "filtered_tokens = [word for word in tokens if word.lower() not in stop_words]"
      ]
    },
    {
      "cell_type": "code",
      "execution_count": 5,
      "id": "14120510",
      "metadata": {
        "colab": {
          "base_uri": "https://localhost:8080/"
        },
        "id": "14120510",
        "outputId": "1f034024-e6f6-4bde-da68-f09bddb84068"
      },
      "outputs": [
        {
          "output_type": "stream",
          "name": "stdout",
          "text": [
            "Filtered Tokens: ['Natural', 'Language', 'Processing', '(', 'NLP', ')', 'fascinating', 'field', 'study', '!', 'involves', 'analyzing', 'understanding', 'human', 'language', '.']\n"
          ]
        }
      ],
      "source": [
        "print(\"Filtered Tokens:\", filtered_tokens)"
      ]
    },
    {
      "cell_type": "markdown",
      "id": "50f0b30d",
      "metadata": {
        "id": "50f0b30d"
      },
      "source": [
        "### **Exercise 2: Stemming and Lemmatization**"
      ]
    },
    {
      "cell_type": "markdown",
      "id": "c6949309",
      "metadata": {
        "id": "c6949309"
      },
      "source": [
        "Apply stemming and lemmatization to the `filtered_tokens`. Compare the results."
      ]
    },
    {
      "cell_type": "code",
      "execution_count": 6,
      "id": "03dd22dd",
      "metadata": {
        "id": "03dd22dd"
      },
      "outputs": [],
      "source": [
        "stemmer = PorterStemmer()\n",
        "lemmatizer = WordNetLemmatizer()"
      ]
    },
    {
      "cell_type": "markdown",
      "id": "d063d90e",
      "metadata": {
        "id": "d063d90e"
      },
      "source": [
        "Apply stemming and store the result in `stemmed_tokens`"
      ]
    },
    {
      "cell_type": "code",
      "execution_count": 11,
      "id": "6120c6d0",
      "metadata": {
        "id": "6120c6d0"
      },
      "outputs": [],
      "source": [
        "# your code here\n",
        "stemmed_tokens = [stemmer.stem(word) for word in filtered_tokens]"
      ]
    },
    {
      "cell_type": "code",
      "execution_count": 12,
      "id": "c2c5d353",
      "metadata": {
        "colab": {
          "base_uri": "https://localhost:8080/"
        },
        "id": "c2c5d353",
        "outputId": "fe8450f2-aa4e-461a-c1f1-172698641b17"
      },
      "outputs": [
        {
          "output_type": "stream",
          "name": "stdout",
          "text": [
            "Stemmed Tokens: ['natur', 'languag', 'process', '(', 'nlp', ')', 'fascin', 'field', 'studi', '!', 'involv', 'analyz', 'understand', 'human', 'languag', '.']\n"
          ]
        }
      ],
      "source": [
        "print(\"Stemmed Tokens:\", stemmed_tokens)"
      ]
    },
    {
      "cell_type": "markdown",
      "id": "a2dc333a",
      "metadata": {
        "id": "a2dc333a"
      },
      "source": [
        "Apply lemmatization and store the result in `lemmatized_tokens`"
      ]
    },
    {
      "cell_type": "code",
      "execution_count": 13,
      "id": "c2b23234",
      "metadata": {
        "id": "c2b23234"
      },
      "outputs": [],
      "source": [
        "# your code here\n",
        "lemmatized_tokens = [lemmatizer.lemmatize(word) for word in filtered_tokens]"
      ]
    },
    {
      "cell_type": "code",
      "execution_count": 14,
      "id": "08f49cad",
      "metadata": {
        "colab": {
          "base_uri": "https://localhost:8080/"
        },
        "id": "08f49cad",
        "outputId": "10a622b2-68c0-4eb6-c5cc-dbcbea7f7d85"
      },
      "outputs": [
        {
          "output_type": "stream",
          "name": "stdout",
          "text": [
            "Lemmatized Tokens: ['Natural', 'Language', 'Processing', '(', 'NLP', ')', 'fascinating', 'field', 'study', '!', 'involves', 'analyzing', 'understanding', 'human', 'language', '.']\n"
          ]
        }
      ],
      "source": [
        "print(\"Lemmatized Tokens:\", lemmatized_tokens)"
      ]
    },
    {
      "cell_type": "markdown",
      "id": "20531b9b",
      "metadata": {
        "id": "20531b9b"
      },
      "source": [
        "## **3. Feature Extraction**"
      ]
    },
    {
      "cell_type": "markdown",
      "id": "a5fbd840",
      "metadata": {
        "id": "a5fbd840"
      },
      "source": [
        "### **Exercise 3: Bag of Words (BoW)**"
      ]
    },
    {
      "cell_type": "markdown",
      "id": "b7765074",
      "metadata": {
        "id": "b7765074"
      },
      "source": [
        "Use the `CountVectorizer` from `scikit-learn` to create a Bag of Words representation of the following corpus"
      ]
    },
    {
      "cell_type": "code",
      "execution_count": 15,
      "id": "39c86f37",
      "metadata": {
        "id": "39c86f37"
      },
      "outputs": [],
      "source": [
        "corpus = [\n",
        "    \"I love NLP.\",\n",
        "    \"NLP is amazing.\",\n",
        "    \"I enjoy learning new things in NLP.\"\n",
        "]"
      ]
    },
    {
      "cell_type": "code",
      "execution_count": 28,
      "id": "45334917",
      "metadata": {
        "id": "45334917"
      },
      "outputs": [],
      "source": [
        "\n",
        "# your code here\n",
        "# Step 1: Initialize the CountVectorizer\n",
        "\n",
        "vectorizer = CountVectorizer (min_df = 1)#(min_df=0.1,max_df=0.7)\n",
        "# Step 2: Fit and transform the corpus into a BoW representation\n",
        "X = vectorizer.fit_transform(corpus)\n",
        "\n",
        "bow = X.toarray()\n"
      ]
    },
    {
      "cell_type": "code",
      "execution_count": 29,
      "id": "bfb3b95e",
      "metadata": {
        "colab": {
          "base_uri": "https://localhost:8080/"
        },
        "id": "bfb3b95e",
        "outputId": "8a23021f-1a4f-49ba-9677-973c702f21c4"
      },
      "outputs": [
        {
          "output_type": "stream",
          "name": "stdout",
          "text": [
            "Bag of Words:\n",
            " [[0 0 0 0 0 1 0 1 0]\n",
            " [1 0 0 1 0 0 0 1 0]\n",
            " [0 1 1 0 1 0 1 1 1]]\n",
            "Vocabulary: ['amazing' 'enjoy' 'in' 'is' 'learning' 'love' 'new' 'nlp' 'things']\n"
          ]
        }
      ],
      "source": [
        "\n",
        "\n",
        "print(\"Bag of Words:\\n\", X.toarray())\n",
        "print(\"Vocabulary:\", vectorizer.get_feature_names_out())"
      ]
    },
    {
      "cell_type": "markdown",
      "id": "b0d79220",
      "metadata": {
        "id": "b0d79220"
      },
      "source": [
        "### **Exercise 4: TF-IDF**"
      ]
    },
    {
      "cell_type": "markdown",
      "id": "55622108",
      "metadata": {
        "id": "55622108"
      },
      "source": [
        "Use the `TfidfVectorizer` from `scikit-learn` to create a TF-IDF representation of the same corpus. Store the result in `X_tfidf`"
      ]
    },
    {
      "cell_type": "code",
      "execution_count": 46,
      "id": "ba20ee5c",
      "metadata": {
        "id": "ba20ee5c"
      },
      "outputs": [],
      "source": [
        "# your code here\n",
        "# Step 1: Initialize the TfidfVectorizer\n",
        "tfidf_vectorizer = TfidfVectorizer()\n",
        "# Step 2: Fit and transform the corpus into a TF-IDF representation\n",
        "X_tfidf = tfidf_vectorizer.fit_transform(corpus)\n"
      ]
    },
    {
      "cell_type": "code",
      "execution_count": 47,
      "id": "e0df3ff9",
      "metadata": {
        "colab": {
          "base_uri": "https://localhost:8080/"
        },
        "id": "e0df3ff9",
        "outputId": "d9c86dca-8642-430e-afb1-ae12229027bc"
      },
      "outputs": [
        {
          "output_type": "stream",
          "name": "stdout",
          "text": [
            "TF-IDF:\n",
            " [[0.         0.         0.         0.         0.         0.861037\n",
            "  0.         0.50854232 0.        ]\n",
            " [0.65249088 0.         0.         0.65249088 0.         0.\n",
            "  0.         0.38537163 0.        ]\n",
            " [0.         0.43238509 0.43238509 0.         0.43238509 0.\n",
            "  0.43238509 0.2553736  0.43238509]]\n",
            "Vocabulary: ['amazing' 'enjoy' 'in' 'is' 'learning' 'love' 'new' 'nlp' 'things']\n"
          ]
        }
      ],
      "source": [
        "\n",
        "print(\"TF-IDF:\\n\", X_tfidf.toarray())\n",
        "print(\"Vocabulary:\", tfidf_vectorizer.get_feature_names_out())"
      ]
    },
    {
      "cell_type": "markdown",
      "id": "a0a6cee3",
      "metadata": {
        "id": "a0a6cee3"
      },
      "source": [
        "### **Exercise 5: N-grams**"
      ]
    },
    {
      "cell_type": "markdown",
      "id": "95c9d66d",
      "metadata": {
        "id": "95c9d66d"
      },
      "source": [
        "Generate `bigrams (2-grams)` from the corpus using `CountVectorizer`. Store the result in `X_bigram`"
      ]
    },
    {
      "cell_type": "code",
      "execution_count": 48,
      "id": "9de7b987",
      "metadata": {
        "id": "9de7b987"
      },
      "outputs": [],
      "source": [
        "# your code here\n",
        "# Step 1: Initialize the CountVectorizer with ngram_range=(2, 2)\n",
        "bigram_vectorizer = CountVectorizer(ngram_range=(2, 2))\n",
        "# Step 2: Fit and transform the corpus into a bigram representation\n",
        "\n",
        "X_bigram = bigram_vectorizer.fit_transform(corpus)"
      ]
    },
    {
      "cell_type": "code",
      "execution_count": 49,
      "id": "7b210fc9",
      "metadata": {
        "colab": {
          "base_uri": "https://localhost:8080/"
        },
        "id": "7b210fc9",
        "outputId": "189819c5-6184-4b91-b5fc-002a2c12efba"
      },
      "outputs": [
        {
          "output_type": "stream",
          "name": "stdout",
          "text": [
            "Bigrams:\n",
            " [[0 0 0 0 1 0 0 0]\n",
            " [0 0 1 0 0 0 1 0]\n",
            " [1 1 0 1 0 1 0 1]]\n",
            "Bigram Vocabulary: ['enjoy learning' 'in nlp' 'is amazing' 'learning new' 'love nlp'\n",
            " 'new things' 'nlp is' 'things in']\n"
          ]
        }
      ],
      "source": [
        "print(\"Bigrams:\\n\", X_bigram.toarray())\n",
        "print(\"Bigram Vocabulary:\", bigram_vectorizer.get_feature_names_out())"
      ]
    },
    {
      "cell_type": "markdown",
      "id": "f7896acb",
      "metadata": {
        "id": "f7896acb"
      },
      "source": [
        "## **4. Advanced Exercise: Custom Preprocessing Pipeline**"
      ]
    },
    {
      "cell_type": "markdown",
      "id": "68072a1e",
      "metadata": {
        "id": "68072a1e"
      },
      "source": [
        "### **Exercise 6: Build a Custom Preprocessing Pipeline**"
      ]
    },
    {
      "cell_type": "markdown",
      "id": "7bb33268",
      "metadata": {
        "id": "7bb33268"
      },
      "source": [
        "Combine all the preprocessing steps (tokenization, stop word removal, punctuation removal, stemming/lemmatization) into a single function."
      ]
    },
    {
      "cell_type": "code",
      "execution_count": 50,
      "id": "cfff29b9",
      "metadata": {
        "id": "cfff29b9"
      },
      "outputs": [],
      "source": [
        "# your code here\n",
        "def text_preprocessing_pipeline(text):\n",
        "    # Step 1: Tokenize the text\n",
        "    tokens = word_tokenize(text)\n",
        "    # Step 2: Remove stop words\n",
        "    stop_words = set(stopwords.words('english'))\n",
        "    filtered_tokens = [word for word in tokens if word.lower() not in stop_words]\n",
        "    # Step 3: Remove punctuation\n",
        "    filtered_tokens = [word for word in filtered_tokens if word not in string.punctuation]\n",
        "    # Step 4: Apply lemmatization\n",
        "    lemmatizer = WordNetLemmatizer()\n",
        "    lemmatized_tokens = [lemmatizer.lemmatize(word) for word in filtered_tokens]\n",
        "    return lemmatized_tokens\n"
      ]
    },
    {
      "cell_type": "markdown",
      "id": "b8170a6c",
      "metadata": {
        "id": "b8170a6c"
      },
      "source": [
        "Apply this function to the following text"
      ]
    },
    {
      "cell_type": "code",
      "execution_count": 51,
      "id": "e1777799",
      "metadata": {
        "id": "e1777799"
      },
      "outputs": [],
      "source": [
        "text = \"Natural Language Processing (NLP) is a fascinating field of study! It involves analyzing and understanding human language.\"\n",
        "\n",
        "# your code here\n",
        "processed_text = text_preprocessing_pipeline(text)"
      ]
    },
    {
      "cell_type": "code",
      "execution_count": 52,
      "id": "c75b50c5",
      "metadata": {
        "colab": {
          "base_uri": "https://localhost:8080/"
        },
        "id": "c75b50c5",
        "outputId": "c901e45a-df2b-43ef-e580-e5aba6f31bae"
      },
      "outputs": [
        {
          "output_type": "stream",
          "name": "stdout",
          "text": [
            "Processed Text: ['Natural', 'Language', 'Processing', 'NLP', 'fascinating', 'field', 'study', 'involves', 'analyzing', 'understanding', 'human', 'language']\n"
          ]
        }
      ],
      "source": [
        "print(\"Processed Text:\", processed_text)"
      ]
    },
    {
      "cell_type": "markdown",
      "id": "3625df20",
      "metadata": {
        "id": "3625df20"
      },
      "source": [
        "## **5. Evaluation of Preprocessing Techniques**"
      ]
    },
    {
      "cell_type": "markdown",
      "id": "3a666da0",
      "metadata": {
        "id": "3a666da0"
      },
      "source": [
        "### **Exercise 7: Compare Preprocessing Techniques**"
      ]
    },
    {
      "cell_type": "markdown",
      "id": "dae05a37",
      "metadata": {
        "id": "dae05a37"
      },
      "source": [
        "Compare the results of stemming and lemmatization on the following sentence. Store the results in `stemmed_tokens` and `lemmatized_tokens`"
      ]
    },
    {
      "cell_type": "code",
      "execution_count": 53,
      "id": "1e70cba9",
      "metadata": {
        "id": "1e70cba9"
      },
      "outputs": [],
      "source": [
        "sentence = \"The cats are playing with the mice in the garden.\"\n",
        "# your code here\n",
        "# Step 1: Tokenize and preprocess the sentence and store the result in filtered_tokens\n",
        "filtered_tokens = text_preprocessing_pipeline(sentence)\n",
        "# Step 2: Apply stemming\n",
        "stemmer = PorterStemmer()\n",
        "stemmed_tokens = [stemmer.stem(word) for word in filtered_tokens]\n",
        "# Step 3: Apply lemmatization\n",
        "lemmatizer = WordNetLemmatizer()\n",
        "lemmatized_tokens = [lemmatizer.lemmatize(word) for word in filtered_tokens]\n",
        "\n"
      ]
    },
    {
      "cell_type": "code",
      "execution_count": 54,
      "id": "125ca6a2",
      "metadata": {
        "colab": {
          "base_uri": "https://localhost:8080/"
        },
        "id": "125ca6a2",
        "outputId": "17b120bb-2b6c-4c92-a3ac-5b2267199301"
      },
      "outputs": [
        {
          "output_type": "stream",
          "name": "stdout",
          "text": [
            "Original Tokens: ['cat', 'playing', 'mouse', 'garden']\n",
            "Stemmed Tokens: ['cat', 'play', 'mous', 'garden']\n",
            "Lemmatized Tokens: ['cat', 'playing', 'mouse', 'garden']\n"
          ]
        }
      ],
      "source": [
        "print(\"Original Tokens:\", filtered_tokens)\n",
        "print(\"Stemmed Tokens:\", stemmed_tokens)\n",
        "print(\"Lemmatized Tokens:\", lemmatized_tokens)"
      ]
    },
    {
      "cell_type": "markdown",
      "id": "c32c465f",
      "metadata": {
        "id": "c32c465f"
      },
      "source": [
        "## **6. Real-World Dataset: Sentiment Analysis**"
      ]
    },
    {
      "cell_type": "markdown",
      "id": "c5a598d9",
      "metadata": {
        "id": "c5a598d9"
      },
      "source": [
        "### **Exercise 8: Preprocess and Analyze Tweets**"
      ]
    },
    {
      "cell_type": "markdown",
      "id": "d056ab80",
      "metadata": {
        "id": "d056ab80"
      },
      "source": [
        "In this exercise, you will work with a real-world dataset of tweets. The dataset contains 5000 positive and 5000 negative tweets. Your task is to preprocess the tweets and extract features for sentiment analysis.\n"
      ]
    },
    {
      "cell_type": "code",
      "execution_count": 55,
      "id": "d1e37f72",
      "metadata": {
        "colab": {
          "base_uri": "https://localhost:8080/"
        },
        "id": "d1e37f72",
        "outputId": "da3ffa2d-86e9-4b14-f8fa-255ca127b7bd"
      },
      "outputs": [
        {
          "output_type": "stream",
          "name": "stderr",
          "text": [
            "[nltk_data] Downloading package twitter_samples to /root/nltk_data...\n",
            "[nltk_data]   Unzipping corpora/twitter_samples.zip.\n"
          ]
        },
        {
          "output_type": "execute_result",
          "data": {
            "text/plain": [
              "True"
            ]
          },
          "metadata": {},
          "execution_count": 55
        }
      ],
      "source": [
        "nltk.download('twitter_samples')"
      ]
    },
    {
      "cell_type": "code",
      "execution_count": 56,
      "id": "c2c60819",
      "metadata": {
        "id": "c2c60819"
      },
      "outputs": [],
      "source": [
        "# Load the dataset\n",
        "from nltk.corpus import twitter_samples"
      ]
    },
    {
      "cell_type": "markdown",
      "id": "c43847ae",
      "metadata": {
        "id": "c43847ae"
      },
      "source": [
        "Load the dataset of positive and negative tweets."
      ]
    },
    {
      "cell_type": "code",
      "execution_count": 57,
      "id": "5b423ebc",
      "metadata": {
        "id": "5b423ebc"
      },
      "outputs": [],
      "source": [
        "positive_tweets = twitter_samples.strings('positive_tweets.json')\n",
        "negative_tweets = twitter_samples.strings('negative_tweets.json')"
      ]
    },
    {
      "cell_type": "markdown",
      "id": "339b8248",
      "metadata": {
        "id": "339b8248"
      },
      "source": [
        "Combine them into a single list called ``all_tweets`` and create a corresponding list of labels called `labels`."
      ]
    },
    {
      "cell_type": "code",
      "execution_count": 58,
      "id": "271a4ee0",
      "metadata": {
        "id": "271a4ee0"
      },
      "outputs": [],
      "source": [
        "# your code here\n",
        "all_tweets = positive_tweets + negative_tweets\n",
        "labels = [1] * len(positive_tweets) + [0] * len(negative_tweets)\n",
        "# Combine the datasets\n",
        "\n"
      ]
    },
    {
      "cell_type": "code",
      "execution_count": 59,
      "id": "32ec3ed8",
      "metadata": {
        "colab": {
          "base_uri": "https://localhost:8080/"
        },
        "id": "32ec3ed8",
        "outputId": "af4f1bf7-e842-4e35-dccb-4e8760342a9f"
      },
      "outputs": [
        {
          "output_type": "stream",
          "name": "stdout",
          "text": [
            "Sample Tweet: #FollowFriday @France_Inte @PKuchly57 @Milipol_Paris for being top engaged members in my community this week :)\n",
            "Label: 1\n"
          ]
        }
      ],
      "source": [
        "# Print a sample tweet\n",
        "print(\"Sample Tweet:\", all_tweets[0])\n",
        "print(\"Label:\", labels[0])"
      ]
    },
    {
      "cell_type": "markdown",
      "id": "bfc2a04a",
      "metadata": {
        "id": "bfc2a04a"
      },
      "source": [
        "### **Exercise 9: Preprocess Tweets**"
      ]
    },
    {
      "cell_type": "markdown",
      "id": "b4d1e984",
      "metadata": {
        "id": "b4d1e984"
      },
      "source": [
        "Apply the custom preprocessing pipeline to the entire dataset of tweets. Store the result in ``preprocessed_tweets``."
      ]
    },
    {
      "cell_type": "code",
      "execution_count": 60,
      "id": "39e8c02f",
      "metadata": {
        "id": "39e8c02f"
      },
      "outputs": [],
      "source": [
        "# Step 1: Apply the preprocessing pipeline to all tweets\n",
        "# your code here\n",
        "preprocessed_tweets = [text_preprocessing_pipeline(tweet) for tweet in all_tweets]"
      ]
    },
    {
      "cell_type": "code",
      "execution_count": 61,
      "id": "edeef254",
      "metadata": {
        "colab": {
          "base_uri": "https://localhost:8080/"
        },
        "id": "edeef254",
        "outputId": "1b887864-93ec-4af7-c427-f8f157b20650"
      },
      "outputs": [
        {
          "output_type": "stream",
          "name": "stdout",
          "text": [
            "Preprocessed Tweets Sample: ['FollowFriday', 'France_Inte', 'PKuchly57', 'Milipol_Paris', 'top', 'engaged', 'member', 'community', 'week']\n"
          ]
        }
      ],
      "source": [
        "# Print a sample preprocessed tweet\n",
        "print(\"Preprocessed Tweets Sample:\", preprocessed_tweets[0])"
      ]
    },
    {
      "cell_type": "markdown",
      "id": "a8658daf",
      "metadata": {
        "id": "a8658daf"
      },
      "source": [
        "### **Exercise 10: Feature Extraction on Tweets**"
      ]
    },
    {
      "cell_type": "markdown",
      "id": "381f161c",
      "metadata": {
        "id": "381f161c"
      },
      "source": [
        "Extract features from the preprocessed tweets using **Bag of Words** and **TF-IDF**. Store the results in ``X_bow`` and ``X_tfidf``, respectively."
      ]
    },
    {
      "cell_type": "code",
      "execution_count": 64,
      "id": "bee42f6c",
      "metadata": {
        "colab": {
          "base_uri": "https://localhost:8080/"
        },
        "id": "bee42f6c",
        "outputId": "09cac4b0-6825-4b33-c79a-d76d1d0d7599"
      },
      "outputs": [
        {
          "output_type": "stream",
          "name": "stdout",
          "text": [
            "Bag of Words (BoW) Sample:\n",
            " [0 0 0 ... 0 0 0]\n",
            "TF-IDF Sample:\n",
            " [0. 0. 0. ... 0. 0. 0.]\n"
          ]
        }
      ],
      "source": [
        "# your code here\n",
        "# Step 1: Create a Bag of Words representation\n",
        "vectorizer_bow = CountVectorizer()\n",
        "\n",
        "X_bow = vectorizer_bow.fit_transform([' '.join(tweet) for tweet in preprocessed_tweets])\n",
        "\n",
        "# Step 2: Create a TF-IDF representation\n",
        "vectorizer_tfidf = TfidfVectorizer()\n",
        "\n",
        "X_tfidf = vectorizer_tfidf.fit_transform([' '.join(tweet) for tweet in preprocessed_tweets])\n",
        "\n",
        "# Print sample feature representation\n",
        "print(\"Bag of Words (BoW) Sample:\\n\", X_bow.toarray()[0])\n",
        "print(\"TF-IDF Sample:\\n\", X_tfidf.toarray()[0])\n",
        "\n",
        "\n"
      ]
    },
    {
      "cell_type": "markdown",
      "id": "4912687c",
      "metadata": {
        "id": "4912687c"
      },
      "source": [
        "## **7. Conclusion**"
      ]
    },
    {
      "cell_type": "markdown",
      "id": "948ed4ac",
      "metadata": {
        "id": "948ed4ac"
      },
      "source": [
        "In this lab, you explored a wide range of NLP techniques, from basic text preprocessing to advanced feature extraction and analysis. You also worked with a real-world dataset of tweets and applied your knowledge to preprocess and extract features for sentiment analysis.\n",
        "\n"
      ]
    }
  ],
  "metadata": {
    "kernelspec": {
      "display_name": "base",
      "language": "python",
      "name": "python3"
    },
    "language_info": {
      "codemirror_mode": {
        "name": "ipython",
        "version": 3
      },
      "file_extension": ".py",
      "mimetype": "text/x-python",
      "name": "python",
      "nbconvert_exporter": "python",
      "pygments_lexer": "ipython3",
      "version": "3.12.7"
    },
    "colab": {
      "provenance": []
    }
  },
  "nbformat": 4,
  "nbformat_minor": 5
}